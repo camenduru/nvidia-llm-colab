{
  "cells": [
    {
      "cell_type": "markdown",
      "metadata": {
        "id": "view-in-github"
      },
      "source": [
        "[![Open In Colab](https://colab.research.google.com/assets/colab-badge.svg)](https://colab.research.google.com/github/camenduru/nvidia-llm-colab/blob/main/nemo_2b_bf16_tp1_client.ipynb)"
      ]
    },
    {
      "cell_type": "code",
      "execution_count": null,
      "metadata": {
        "id": "kEh5x3-c8Bs_"
      },
      "outputs": [],
      "source": [
        "import json\n",
        "import requests\n",
        "\n",
        "port_num = 80\n",
        "headers = {\"Content-Type\": \"application/json\"}\n",
        "\n",
        "def request_data(data):\n",
        "    resp = requests.put('http://SERVER_URL.loca.lt:{}/generate'.format(port_num),\n",
        "                        data=json.dumps(data),\n",
        "                        headers=headers)\n",
        "    sentences = resp.json()['sentences']\n",
        "    return sentences\n",
        "\n",
        "data = {\n",
        "    \"sentences\": [\"Tell me an interesting fact about space travel.\"]*1,\n",
        "    \"tokens_to_generate\": 50,\n",
        "    \"temperature\": 1.0,\n",
        "    \"add_BOS\": True,\n",
        "    \"top_k\": 0,\n",
        "    \"top_p\": 0.9,\n",
        "    \"greedy\": False,\n",
        "    \"all_probs\": False,\n",
        "    \"repetition_penalty\": 1.2,\n",
        "    \"min_tokens_to_generate\": 2,\n",
        "}\n",
        "\n",
        "sentences = request_data(data)\n",
        "print(sentences)"
      ]
    }
  ],
  "metadata": {
    "colab": {
      "provenance": []
    },
    "kernelspec": {
      "display_name": "Python 3",
      "name": "python3"
    },
    "language_info": {
      "name": "python"
    }
  },
  "nbformat": 4,
  "nbformat_minor": 0
}
